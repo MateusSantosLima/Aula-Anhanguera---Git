{
  "nbformat": 4,
  "nbformat_minor": 0,
  "metadata": {
    "colab": {
      "provenance": [],
      "authorship_tag": "ABX9TyPoKVj2FxyLJiuLL5Yi6UzA",
      "include_colab_link": true
    },
    "kernelspec": {
      "name": "python3",
      "display_name": "Python 3"
    },
    "language_info": {
      "name": "python"
    }
  },
  "cells": [
    {
      "cell_type": "markdown",
      "metadata": {
        "id": "view-in-github",
        "colab_type": "text"
      },
      "source": [
        "<a href=\"https://colab.research.google.com/github/MateusSantosLima/Aula-Anhanguera---Git/blob/main/Ola_Mundo.ipynb\" target=\"_parent\"><img src=\"https://colab.research.google.com/assets/colab-badge.svg\" alt=\"Open In Colab\"/></a>"
      ]
    },
    {
      "cell_type": "code",
      "execution_count": 2,
      "metadata": {
        "id": "tDriQvhTTkZe",
        "colab": {
          "base_uri": "https://localhost:8080/"
        },
        "outputId": "b27d7271-b3e5-4bad-b3d3-fff57fb2dec8"
      },
      "outputs": [
        {
          "output_type": "stream",
          "name": "stdout",
          "text": [
            "olá, mundo\n"
          ]
        }
      ],
      "source": [
        "print(\"olá, mundo\")\n"
      ]
    }
  ]
}